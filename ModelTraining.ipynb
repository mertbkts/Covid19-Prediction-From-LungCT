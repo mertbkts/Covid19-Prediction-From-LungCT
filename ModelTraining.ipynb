{
  "nbformat": 4,
  "nbformat_minor": 0,
  "metadata": {
    "colab": {
      "name": "Training.ipynb",
      "provenance": [],
      "collapsed_sections": [],
      "include_colab_link": true
    },
    "kernelspec": {
      "name": "python3",
      "display_name": "Python 3"
    },
    "accelerator": "GPU"
  },
  "cells": [
    {
      "cell_type": "markdown",
      "metadata": {
        "id": "view-in-github",
        "colab_type": "text"
      },
      "source": [
        "<a href=\"https://colab.research.google.com/github/mertbkts/Covid19-Prediction-From-LungCT/blob/main/ModelTraining.ipynb\" target=\"_parent\"><img src=\"https://colab.research.google.com/assets/colab-badge.svg\" alt=\"Open In Colab\"/></a>"
      ]
    },
    {
      "cell_type": "markdown",
      "source": [
        "# Preparation For Training"
      ],
      "metadata": {
        "id": "wHLbRPzFh9Uj"
      }
    },
    {
      "cell_type": "markdown",
      "source": [
        " Importing Dependencies"
      ],
      "metadata": {
        "id": "EvjbH5DEY8Cu"
      }
    },
    {
      "cell_type": "code",
      "source": [
        "from google.colab import drive\n",
        "drive.mount('/content/drive')"
      ],
      "metadata": {
        "id": "K-x-uDU7bED5",
        "colab": {
          "base_uri": "https://localhost:8080/"
        },
        "outputId": "3ca1daac-e811-495c-ebff-92976309087e"
      },
      "execution_count": 1,
      "outputs": [
        {
          "output_type": "stream",
          "name": "stdout",
          "text": [
            "Mounted at /content/drive\n"
          ]
        }
      ]
    },
    {
      "cell_type": "code",
      "metadata": {
        "id": "sn6kN0igjHUu"
      },
      "source": [
        "from tensorflow.keras.applications import VGG19\n",
        "from tensorflow.keras.preprocessing.image import ImageDataGenerator\n",
        "from tensorflow.keras.layers import Dropout\n",
        "from tensorflow.keras.layers import Flatten\n",
        "from tensorflow.keras.layers import Dense\n",
        "from tensorflow.keras.layers import Input\n",
        "from tensorflow.keras.models import Model\n",
        "from tensorflow.keras.optimizers import Adam\n",
        "from tensorflow.keras.utils import to_categorical\n",
        "from sklearn.preprocessing import LabelBinarizer\n",
        "from sklearn.model_selection import train_test_split\n",
        "from sklearn.metrics import classification_report\n",
        "from sklearn.metrics import confusion_matrix\n",
        "from imutils import paths\n",
        "import matplotlib.pyplot as plt\n",
        "import numpy as np\n",
        "import cv2\n",
        "import os"
      ],
      "execution_count": 2,
      "outputs": []
    },
    {
      "cell_type": "markdown",
      "source": [
        " Importing Dataset"
      ],
      "metadata": {
        "id": "sxBm19PgY5cF"
      }
    },
    {
      "cell_type": "code",
      "metadata": {
        "id": "YxVYkRSvsjH8"
      },
      "source": [
        "dataset= \"/content/drive/MyDrive/Dataset\""
      ],
      "execution_count": 3,
      "outputs": []
    },
    {
      "cell_type": "markdown",
      "source": [
        " Define Various Elements"
      ],
      "metadata": {
        "id": "EFbbxcAJxSc0"
      }
    },
    {
      "cell_type": "code",
      "metadata": {
        "id": "QaAWnXl9p5zV"
      },
      "source": [
        "# Configuration of Epoch and Batch Size for training\n",
        "EpochNumber = 100\n",
        "batchSize = 32"
      ],
      "execution_count": 4,
      "outputs": []
    },
    {
      "cell_type": "code",
      "metadata": {
        "id": "Oj8h0faRp6_c"
      },
      "source": [
        "# Create a list from the paths of the images in the dataset\n",
        "imagePaths = list(paths.list_images(dataset))\n",
        "\n",
        "# Create separate lists for datas and labels\n",
        "data = []\n",
        "labels = []"
      ],
      "execution_count": 5,
      "outputs": []
    },
    {
      "cell_type": "markdown",
      "source": [
        "Fetch Images and Labels of Them from The Filename They Belong(Either COVID or non-COVID)"
      ],
      "metadata": {
        "id": "vkfsrkqNuz7n"
      }
    },
    {
      "cell_type": "code",
      "metadata": {
        "id": "dtGrTf9Hp8P3",
        "colab": {
          "base_uri": "https://localhost:8080/"
        },
        "outputId": "5c256985-75ce-40ca-acc5-72cb04195db0"
      },
      "source": [
        "print(\"Images are loading...\")\n",
        "\n",
        "for imagePath in imagePaths:\n",
        "\t\n",
        "  # Fetch label of the current image\n",
        "\tlabel = imagePath.split(os.path.sep)[-2]\n",
        "\n",
        "\t# Read image\n",
        "\timage = cv2.imread(imagePath)\n",
        "  # Change color channel to RGB\n",
        "\timage = cv2.cvtColor(image, cv2.COLOR_BGR2RGB)\n",
        "  # Resize image to 224x224 pixels\n",
        "\timage = cv2.resize(image, (224, 224))\n",
        "  \n",
        "\t# Append image and the label of it\n",
        "\tdata.append(image)\n",
        "\tlabels.append(label)"
      ],
      "execution_count": 6,
      "outputs": [
        {
          "output_type": "stream",
          "name": "stdout",
          "text": [
            "Images are loading...\n"
          ]
        }
      ]
    },
    {
      "cell_type": "markdown",
      "source": [
        "Normalization"
      ],
      "metadata": {
        "id": "lUjbQJxUx9TP"
      }
    },
    {
      "cell_type": "code",
      "metadata": {
        "id": "GFS21guyp9p2"
      },
      "source": [
        "# Convert data to a NumPy array and normalize data between 0 and 1\n",
        "data = np.array(data) / 255.0\n",
        "labels = np.array(labels)"
      ],
      "execution_count": 7,
      "outputs": []
    },
    {
      "cell_type": "markdown",
      "source": [
        "Train-Test Split"
      ],
      "metadata": {
        "id": "xySWkVxszpoq"
      }
    },
    {
      "cell_type": "code",
      "metadata": {
        "id": "GZgdMbjvqAXx"
      },
      "source": [
        "# Splitting data into training and test sets. 80% of the data will be the training set and 20% will be the test set.\n",
        "(trainX, testX, trainY, testY) = train_test_split(data, labels,test_size=0.20)"
      ],
      "execution_count": 9,
      "outputs": []
    },
    {
      "cell_type": "markdown",
      "source": [
        "One-Hot Encoding"
      ],
      "metadata": {
        "id": "QD-0cS72rr2V"
      }
    },
    {
      "cell_type": "code",
      "source": [
        "# Categorize labels into zeros and ones\n",
        "lb = LabelBinarizer()\n",
        "\n",
        "trainY = lb.fit_transform(trainY)\n",
        "trainY = to_categorical(trainY)\n",
        "\n",
        "testY = lb.fit_transform(testY)\n",
        "testY = to_categorical(testY)"
      ],
      "metadata": {
        "id": "z3-H-swixw3j"
      },
      "execution_count": 10,
      "outputs": []
    },
    {
      "cell_type": "markdown",
      "source": [
        "# Building The Model And Training"
      ],
      "metadata": {
        "id": "q_2ieow2iIgi"
      }
    },
    {
      "cell_type": "markdown",
      "source": [
        "Building and Compiling The Model"
      ],
      "metadata": {
        "id": "-FFgHxzxz8zW"
      }
    },
    {
      "cell_type": "code",
      "source": [
        "# Building the base of the model using VGG19.\n",
        "vggModel = VGG19(weights=\"imagenet\", include_top=False,\n",
        "                 input_tensor=Input(shape=(224, 224, 3)))\n",
        "\n",
        "# Adding layers of Pooling, Flattening, Dropout and Fully Connected\n",
        "output = vggModel.output\n",
        "output = Flatten()(output)\n",
        "output = Dropout(0.5)(output)\n",
        "output = Dense(2, activation='softmax')(output)\n",
        "\n",
        "model = Model(inputs=vggModel.input, outputs=output)\n",
        "\n",
        "# Freezing layers to prevent modification of it's weights\n",
        "for layer in vggModel.layers:\n",
        "    layer.trainable = False\n",
        "\n",
        "# Compiling the model\n",
        "model.compile(\n",
        "        loss='categorical_crossentropy', \n",
        "        optimizer='adam', \n",
        "        metrics=['accuracy']\n",
        ")\n",
        "\n",
        "# Increasing the size of data with techniques such as rotating, shifting, and flipping\n",
        "train_aug = ImageDataGenerator(\n",
        "    rotation_range=20,\n",
        "    width_shift_range=0.2,\n",
        "    height_shift_range=0.2,\n",
        "    horizontal_flip=True\n",
        ")"
      ],
      "metadata": {
        "id": "7CAM6P5v7WX0",
        "colab": {
          "base_uri": "https://localhost:8080/"
        },
        "outputId": "c631310f-add5-4340-f75f-193919e7d848"
      },
      "execution_count": 12,
      "outputs": [
        {
          "output_type": "stream",
          "name": "stdout",
          "text": [
            "Downloading data from https://storage.googleapis.com/tensorflow/keras-applications/vgg19/vgg19_weights_tf_dim_ordering_tf_kernels_notop.h5\n",
            "80142336/80134624 [==============================] - 1s 0us/step\n",
            "80150528/80134624 [==============================] - 1s 0us/step\n"
          ]
        }
      ]
    },
    {
      "cell_type": "code",
      "metadata": {
        "id": "u4MG50zkxwkd",
        "colab": {
          "base_uri": "https://localhost:8080/"
        },
        "outputId": "0f350a00-2b6b-4c15-ffc0-a0445b24811e"
      },
      "source": [
        "# Summarizing the model\n",
        "model.summary()"
      ],
      "execution_count": 13,
      "outputs": [
        {
          "output_type": "stream",
          "name": "stdout",
          "text": [
            "Model: \"model\"\n",
            "_________________________________________________________________\n",
            " Layer (type)                Output Shape              Param #   \n",
            "=================================================================\n",
            " input_1 (InputLayer)        [(None, 224, 224, 3)]     0         \n",
            "                                                                 \n",
            " block1_conv1 (Conv2D)       (None, 224, 224, 64)      1792      \n",
            "                                                                 \n",
            " block1_conv2 (Conv2D)       (None, 224, 224, 64)      36928     \n",
            "                                                                 \n",
            " block1_pool (MaxPooling2D)  (None, 112, 112, 64)      0         \n",
            "                                                                 \n",
            " block2_conv1 (Conv2D)       (None, 112, 112, 128)     73856     \n",
            "                                                                 \n",
            " block2_conv2 (Conv2D)       (None, 112, 112, 128)     147584    \n",
            "                                                                 \n",
            " block2_pool (MaxPooling2D)  (None, 56, 56, 128)       0         \n",
            "                                                                 \n",
            " block3_conv1 (Conv2D)       (None, 56, 56, 256)       295168    \n",
            "                                                                 \n",
            " block3_conv2 (Conv2D)       (None, 56, 56, 256)       590080    \n",
            "                                                                 \n",
            " block3_conv3 (Conv2D)       (None, 56, 56, 256)       590080    \n",
            "                                                                 \n",
            " block3_conv4 (Conv2D)       (None, 56, 56, 256)       590080    \n",
            "                                                                 \n",
            " block3_pool (MaxPooling2D)  (None, 28, 28, 256)       0         \n",
            "                                                                 \n",
            " block4_conv1 (Conv2D)       (None, 28, 28, 512)       1180160   \n",
            "                                                                 \n",
            " block4_conv2 (Conv2D)       (None, 28, 28, 512)       2359808   \n",
            "                                                                 \n",
            " block4_conv3 (Conv2D)       (None, 28, 28, 512)       2359808   \n",
            "                                                                 \n",
            " block4_conv4 (Conv2D)       (None, 28, 28, 512)       2359808   \n",
            "                                                                 \n",
            " block4_pool (MaxPooling2D)  (None, 14, 14, 512)       0         \n",
            "                                                                 \n",
            " block5_conv1 (Conv2D)       (None, 14, 14, 512)       2359808   \n",
            "                                                                 \n",
            " block5_conv2 (Conv2D)       (None, 14, 14, 512)       2359808   \n",
            "                                                                 \n",
            " block5_conv3 (Conv2D)       (None, 14, 14, 512)       2359808   \n",
            "                                                                 \n",
            " block5_conv4 (Conv2D)       (None, 14, 14, 512)       2359808   \n",
            "                                                                 \n",
            " block5_pool (MaxPooling2D)  (None, 7, 7, 512)         0         \n",
            "                                                                 \n",
            " flatten (Flatten)           (None, 25088)             0         \n",
            "                                                                 \n",
            " dropout (Dropout)           (None, 25088)             0         \n",
            "                                                                 \n",
            " dense (Dense)               (None, 2)                 50178     \n",
            "                                                                 \n",
            "=================================================================\n",
            "Total params: 20,074,562\n",
            "Trainable params: 50,178\n",
            "Non-trainable params: 20,024,384\n",
            "_________________________________________________________________\n"
          ]
        }
      ]
    },
    {
      "cell_type": "markdown",
      "source": [
        "Training"
      ],
      "metadata": {
        "id": "NLUwVuDp7ovh"
      }
    },
    {
      "cell_type": "code",
      "metadata": {
        "colab": {
          "base_uri": "https://localhost:8080/"
        },
        "id": "qtNd-2XJx3N0",
        "outputId": "360a7b38-e234-4741-f77d-f48bf7b737d2"
      },
      "source": [
        "H = model.fit(train_aug.flow(trainX, trainY, batch_size=batchSize),\n",
        "                    validation_data=(testX, testY),\n",
        "                    validation_steps=len(testX) / batchSize,\n",
        "                    steps_per_epoch=len(trainX) / batchSize,\n",
        "                    epochs=EpochNumber)"
      ],
      "execution_count": 14,
      "outputs": [
        {
          "output_type": "stream",
          "name": "stdout",
          "text": [
            "Epoch 1/100\n",
            "62/62 [==============================] - 52s 614ms/step - loss: 0.9398 - accuracy: 0.6396 - val_loss: 0.7773 - val_accuracy: 0.6680\n",
            "Epoch 2/100\n",
            "62/62 [==============================] - 35s 564ms/step - loss: 0.5838 - accuracy: 0.7485 - val_loss: 0.3752 - val_accuracy: 0.8249\n",
            "Epoch 3/100\n",
            "62/62 [==============================] - 35s 560ms/step - loss: 0.5065 - accuracy: 0.7742 - val_loss: 0.4900 - val_accuracy: 0.7525\n",
            "Epoch 4/100\n",
            "62/62 [==============================] - 36s 574ms/step - loss: 0.4285 - accuracy: 0.8085 - val_loss: 0.3355 - val_accuracy: 0.8491\n",
            "Epoch 5/100\n",
            "62/62 [==============================] - 37s 591ms/step - loss: 0.4217 - accuracy: 0.8024 - val_loss: 0.3135 - val_accuracy: 0.8612\n",
            "Epoch 6/100\n",
            "62/62 [==============================] - 36s 581ms/step - loss: 0.4476 - accuracy: 0.8044 - val_loss: 0.3366 - val_accuracy: 0.8531\n",
            "Epoch 7/100\n",
            "62/62 [==============================] - 36s 572ms/step - loss: 0.4551 - accuracy: 0.8160 - val_loss: 0.2886 - val_accuracy: 0.8793\n",
            "Epoch 8/100\n",
            "62/62 [==============================] - 36s 576ms/step - loss: 0.4308 - accuracy: 0.8206 - val_loss: 0.2952 - val_accuracy: 0.8612\n",
            "Epoch 9/100\n",
            "62/62 [==============================] - 35s 564ms/step - loss: 0.4114 - accuracy: 0.8256 - val_loss: 0.2739 - val_accuracy: 0.8913\n",
            "Epoch 10/100\n",
            "62/62 [==============================] - 35s 560ms/step - loss: 0.4345 - accuracy: 0.8196 - val_loss: 0.2601 - val_accuracy: 0.8974\n",
            "Epoch 11/100\n",
            "62/62 [==============================] - 35s 559ms/step - loss: 0.4010 - accuracy: 0.8392 - val_loss: 0.2485 - val_accuracy: 0.9034\n",
            "Epoch 12/100\n",
            "62/62 [==============================] - 35s 557ms/step - loss: 0.4558 - accuracy: 0.8317 - val_loss: 0.2680 - val_accuracy: 0.8773\n",
            "Epoch 13/100\n",
            "62/62 [==============================] - 35s 559ms/step - loss: 0.4194 - accuracy: 0.8246 - val_loss: 0.6239 - val_accuracy: 0.7565\n",
            "Epoch 14/100\n",
            "62/62 [==============================] - 35s 562ms/step - loss: 0.4473 - accuracy: 0.8206 - val_loss: 0.2479 - val_accuracy: 0.8934\n",
            "Epoch 15/100\n",
            "62/62 [==============================] - 35s 561ms/step - loss: 0.4033 - accuracy: 0.8397 - val_loss: 0.3073 - val_accuracy: 0.8652\n",
            "Epoch 16/100\n",
            "62/62 [==============================] - 35s 563ms/step - loss: 0.4074 - accuracy: 0.8342 - val_loss: 0.2658 - val_accuracy: 0.8954\n",
            "Epoch 17/100\n",
            "62/62 [==============================] - 35s 566ms/step - loss: 0.4209 - accuracy: 0.8377 - val_loss: 0.2900 - val_accuracy: 0.8773\n",
            "Epoch 18/100\n",
            "62/62 [==============================] - 35s 569ms/step - loss: 0.4312 - accuracy: 0.8327 - val_loss: 0.2534 - val_accuracy: 0.8974\n",
            "Epoch 19/100\n",
            "62/62 [==============================] - 36s 571ms/step - loss: 0.3813 - accuracy: 0.8543 - val_loss: 0.2828 - val_accuracy: 0.8793\n",
            "Epoch 20/100\n",
            "62/62 [==============================] - 36s 571ms/step - loss: 0.3741 - accuracy: 0.8518 - val_loss: 0.2570 - val_accuracy: 0.8913\n",
            "Epoch 21/100\n",
            "62/62 [==============================] - 36s 574ms/step - loss: 0.4017 - accuracy: 0.8412 - val_loss: 0.2575 - val_accuracy: 0.8873\n",
            "Epoch 22/100\n",
            "62/62 [==============================] - 35s 568ms/step - loss: 0.4420 - accuracy: 0.8311 - val_loss: 0.3517 - val_accuracy: 0.8571\n",
            "Epoch 23/100\n",
            "62/62 [==============================] - 35s 563ms/step - loss: 0.4861 - accuracy: 0.8322 - val_loss: 0.2166 - val_accuracy: 0.9135\n",
            "Epoch 24/100\n",
            "62/62 [==============================] - 35s 557ms/step - loss: 0.4194 - accuracy: 0.8417 - val_loss: 0.2374 - val_accuracy: 0.9074\n",
            "Epoch 25/100\n",
            "62/62 [==============================] - 35s 559ms/step - loss: 0.4127 - accuracy: 0.8427 - val_loss: 0.2261 - val_accuracy: 0.9034\n",
            "Epoch 26/100\n",
            "62/62 [==============================] - 35s 559ms/step - loss: 0.4009 - accuracy: 0.8558 - val_loss: 0.2302 - val_accuracy: 0.9014\n",
            "Epoch 27/100\n",
            "62/62 [==============================] - 35s 564ms/step - loss: 0.4152 - accuracy: 0.8382 - val_loss: 0.2500 - val_accuracy: 0.8934\n",
            "Epoch 28/100\n",
            "62/62 [==============================] - 35s 561ms/step - loss: 0.4159 - accuracy: 0.8523 - val_loss: 0.2208 - val_accuracy: 0.8994\n",
            "Epoch 29/100\n",
            "62/62 [==============================] - 35s 557ms/step - loss: 0.4490 - accuracy: 0.8382 - val_loss: 0.2157 - val_accuracy: 0.9074\n",
            "Epoch 30/100\n",
            "62/62 [==============================] - 35s 563ms/step - loss: 0.4455 - accuracy: 0.8281 - val_loss: 0.5191 - val_accuracy: 0.7968\n",
            "Epoch 31/100\n",
            "62/62 [==============================] - 35s 556ms/step - loss: 0.4396 - accuracy: 0.8448 - val_loss: 0.2135 - val_accuracy: 0.9115\n",
            "Epoch 32/100\n",
            "62/62 [==============================] - 38s 611ms/step - loss: 0.4530 - accuracy: 0.8382 - val_loss: 0.2352 - val_accuracy: 0.9054\n",
            "Epoch 33/100\n",
            "62/62 [==============================] - 35s 556ms/step - loss: 0.4154 - accuracy: 0.8488 - val_loss: 0.2113 - val_accuracy: 0.9115\n",
            "Epoch 34/100\n",
            "62/62 [==============================] - 35s 558ms/step - loss: 0.4064 - accuracy: 0.8483 - val_loss: 0.2134 - val_accuracy: 0.9195\n",
            "Epoch 35/100\n",
            "62/62 [==============================] - 39s 632ms/step - loss: 0.3995 - accuracy: 0.8614 - val_loss: 0.2608 - val_accuracy: 0.8833\n",
            "Epoch 36/100\n",
            "62/62 [==============================] - 35s 569ms/step - loss: 0.3815 - accuracy: 0.8543 - val_loss: 0.3684 - val_accuracy: 0.8592\n",
            "Epoch 37/100\n",
            "62/62 [==============================] - 35s 570ms/step - loss: 0.3622 - accuracy: 0.8604 - val_loss: 0.2063 - val_accuracy: 0.9115\n",
            "Epoch 38/100\n",
            "62/62 [==============================] - 34s 553ms/step - loss: 0.4769 - accuracy: 0.8397 - val_loss: 0.2403 - val_accuracy: 0.9034\n",
            "Epoch 39/100\n",
            "62/62 [==============================] - 35s 567ms/step - loss: 0.4420 - accuracy: 0.8548 - val_loss: 0.2068 - val_accuracy: 0.9135\n",
            "Epoch 40/100\n",
            "62/62 [==============================] - 35s 560ms/step - loss: 0.4443 - accuracy: 0.8483 - val_loss: 0.1865 - val_accuracy: 0.9235\n",
            "Epoch 41/100\n",
            "62/62 [==============================] - 35s 559ms/step - loss: 0.4588 - accuracy: 0.8337 - val_loss: 0.2120 - val_accuracy: 0.9074\n",
            "Epoch 42/100\n",
            "62/62 [==============================] - 35s 557ms/step - loss: 0.4222 - accuracy: 0.8478 - val_loss: 0.2082 - val_accuracy: 0.9215\n",
            "Epoch 43/100\n",
            "62/62 [==============================] - 35s 558ms/step - loss: 0.4016 - accuracy: 0.8599 - val_loss: 0.2958 - val_accuracy: 0.8773\n",
            "Epoch 44/100\n",
            "62/62 [==============================] - 35s 565ms/step - loss: 0.4000 - accuracy: 0.8569 - val_loss: 0.2211 - val_accuracy: 0.9135\n",
            "Epoch 45/100\n",
            "62/62 [==============================] - 35s 566ms/step - loss: 0.4150 - accuracy: 0.8498 - val_loss: 0.2210 - val_accuracy: 0.9115\n",
            "Epoch 46/100\n",
            "62/62 [==============================] - 34s 551ms/step - loss: 0.4024 - accuracy: 0.8619 - val_loss: 0.2083 - val_accuracy: 0.9276\n",
            "Epoch 47/100\n",
            "62/62 [==============================] - 35s 561ms/step - loss: 0.3754 - accuracy: 0.8649 - val_loss: 0.1956 - val_accuracy: 0.9215\n",
            "Epoch 48/100\n",
            "62/62 [==============================] - 35s 559ms/step - loss: 0.4203 - accuracy: 0.8528 - val_loss: 0.2330 - val_accuracy: 0.9014\n",
            "Epoch 49/100\n",
            "62/62 [==============================] - 35s 558ms/step - loss: 0.4346 - accuracy: 0.8493 - val_loss: 0.3760 - val_accuracy: 0.8632\n",
            "Epoch 50/100\n",
            "62/62 [==============================] - 35s 557ms/step - loss: 0.4328 - accuracy: 0.8599 - val_loss: 0.2226 - val_accuracy: 0.9195\n",
            "Epoch 51/100\n",
            "62/62 [==============================] - 35s 557ms/step - loss: 0.4318 - accuracy: 0.8473 - val_loss: 0.2159 - val_accuracy: 0.9195\n",
            "Epoch 52/100\n",
            "62/62 [==============================] - 35s 559ms/step - loss: 0.3863 - accuracy: 0.8579 - val_loss: 0.2228 - val_accuracy: 0.9135\n",
            "Epoch 53/100\n",
            "62/62 [==============================] - 35s 557ms/step - loss: 0.4281 - accuracy: 0.8543 - val_loss: 0.1995 - val_accuracy: 0.9195\n",
            "Epoch 54/100\n",
            "62/62 [==============================] - 34s 553ms/step - loss: 0.3858 - accuracy: 0.8548 - val_loss: 0.2622 - val_accuracy: 0.9034\n",
            "Epoch 55/100\n",
            "62/62 [==============================] - 34s 549ms/step - loss: 0.4802 - accuracy: 0.8322 - val_loss: 0.2381 - val_accuracy: 0.9175\n",
            "Epoch 56/100\n",
            "62/62 [==============================] - 34s 551ms/step - loss: 0.4397 - accuracy: 0.8508 - val_loss: 0.2417 - val_accuracy: 0.9054\n",
            "Epoch 57/100\n",
            "62/62 [==============================] - 34s 551ms/step - loss: 0.4045 - accuracy: 0.8579 - val_loss: 0.2118 - val_accuracy: 0.9054\n",
            "Epoch 58/100\n",
            "62/62 [==============================] - 34s 549ms/step - loss: 0.3831 - accuracy: 0.8548 - val_loss: 0.2630 - val_accuracy: 0.8954\n",
            "Epoch 59/100\n",
            "62/62 [==============================] - 34s 552ms/step - loss: 0.3941 - accuracy: 0.8624 - val_loss: 0.3347 - val_accuracy: 0.8793\n",
            "Epoch 60/100\n",
            "62/62 [==============================] - 34s 549ms/step - loss: 0.4361 - accuracy: 0.8533 - val_loss: 0.2989 - val_accuracy: 0.8974\n",
            "Epoch 61/100\n",
            "62/62 [==============================] - 34s 549ms/step - loss: 0.3931 - accuracy: 0.8664 - val_loss: 0.2238 - val_accuracy: 0.9175\n",
            "Epoch 62/100\n",
            "62/62 [==============================] - 34s 550ms/step - loss: 0.4346 - accuracy: 0.8548 - val_loss: 0.3272 - val_accuracy: 0.8773\n",
            "Epoch 63/100\n",
            "62/62 [==============================] - 34s 550ms/step - loss: 0.5183 - accuracy: 0.8397 - val_loss: 0.3175 - val_accuracy: 0.8793\n",
            "Epoch 64/100\n",
            "62/62 [==============================] - 34s 550ms/step - loss: 0.4562 - accuracy: 0.8488 - val_loss: 0.2486 - val_accuracy: 0.9074\n",
            "Epoch 65/100\n",
            "62/62 [==============================] - 34s 549ms/step - loss: 0.4363 - accuracy: 0.8523 - val_loss: 0.3062 - val_accuracy: 0.8893\n",
            "Epoch 66/100\n",
            "62/62 [==============================] - 34s 550ms/step - loss: 0.4552 - accuracy: 0.8548 - val_loss: 0.2224 - val_accuracy: 0.9034\n",
            "Epoch 67/100\n",
            "62/62 [==============================] - 34s 549ms/step - loss: 0.4355 - accuracy: 0.8538 - val_loss: 0.2246 - val_accuracy: 0.9074\n",
            "Epoch 68/100\n",
            "62/62 [==============================] - 34s 548ms/step - loss: 0.4468 - accuracy: 0.8498 - val_loss: 0.2091 - val_accuracy: 0.9296\n",
            "Epoch 69/100\n",
            "62/62 [==============================] - 34s 548ms/step - loss: 0.4634 - accuracy: 0.8478 - val_loss: 0.3126 - val_accuracy: 0.8712\n",
            "Epoch 70/100\n",
            "62/62 [==============================] - 34s 553ms/step - loss: 0.4199 - accuracy: 0.8639 - val_loss: 0.3763 - val_accuracy: 0.8652\n",
            "Epoch 71/100\n",
            "62/62 [==============================] - 35s 556ms/step - loss: 0.4447 - accuracy: 0.8543 - val_loss: 0.3160 - val_accuracy: 0.8853\n",
            "Epoch 72/100\n",
            "62/62 [==============================] - 35s 558ms/step - loss: 0.5545 - accuracy: 0.8377 - val_loss: 0.2460 - val_accuracy: 0.9014\n",
            "Epoch 73/100\n",
            "62/62 [==============================] - 35s 559ms/step - loss: 0.4285 - accuracy: 0.8609 - val_loss: 0.2040 - val_accuracy: 0.9135\n",
            "Epoch 74/100\n",
            "62/62 [==============================] - 35s 557ms/step - loss: 0.4207 - accuracy: 0.8710 - val_loss: 0.2415 - val_accuracy: 0.8913\n",
            "Epoch 75/100\n",
            "62/62 [==============================] - 35s 559ms/step - loss: 0.4928 - accuracy: 0.8508 - val_loss: 0.3710 - val_accuracy: 0.8672\n",
            "Epoch 76/100\n",
            "62/62 [==============================] - 35s 563ms/step - loss: 0.4602 - accuracy: 0.8558 - val_loss: 0.2621 - val_accuracy: 0.9014\n",
            "Epoch 77/100\n",
            "62/62 [==============================] - 35s 565ms/step - loss: 0.4318 - accuracy: 0.8624 - val_loss: 0.1988 - val_accuracy: 0.9235\n",
            "Epoch 78/100\n",
            "62/62 [==============================] - 35s 556ms/step - loss: 0.4865 - accuracy: 0.8513 - val_loss: 0.3488 - val_accuracy: 0.8793\n",
            "Epoch 79/100\n",
            "62/62 [==============================] - 34s 553ms/step - loss: 0.4219 - accuracy: 0.8705 - val_loss: 0.1995 - val_accuracy: 0.9336\n",
            "Epoch 80/100\n",
            "62/62 [==============================] - 35s 557ms/step - loss: 0.4444 - accuracy: 0.8569 - val_loss: 0.1976 - val_accuracy: 0.9256\n",
            "Epoch 81/100\n",
            "62/62 [==============================] - 35s 557ms/step - loss: 0.4455 - accuracy: 0.8473 - val_loss: 0.2513 - val_accuracy: 0.8934\n",
            "Epoch 82/100\n",
            "62/62 [==============================] - 34s 551ms/step - loss: 0.4074 - accuracy: 0.8594 - val_loss: 0.2884 - val_accuracy: 0.8974\n",
            "Epoch 83/100\n",
            "62/62 [==============================] - 34s 553ms/step - loss: 0.5083 - accuracy: 0.8473 - val_loss: 0.4449 - val_accuracy: 0.8491\n",
            "Epoch 84/100\n",
            "62/62 [==============================] - 34s 552ms/step - loss: 0.4829 - accuracy: 0.8498 - val_loss: 0.2282 - val_accuracy: 0.9054\n",
            "Epoch 85/100\n",
            "62/62 [==============================] - 35s 555ms/step - loss: 0.3978 - accuracy: 0.8639 - val_loss: 0.2024 - val_accuracy: 0.9135\n",
            "Epoch 86/100\n",
            "62/62 [==============================] - 35s 555ms/step - loss: 0.4207 - accuracy: 0.8710 - val_loss: 0.3616 - val_accuracy: 0.8712\n",
            "Epoch 87/100\n",
            "62/62 [==============================] - 35s 557ms/step - loss: 0.4658 - accuracy: 0.8548 - val_loss: 0.1931 - val_accuracy: 0.9115\n",
            "Epoch 88/100\n",
            "62/62 [==============================] - 35s 566ms/step - loss: 0.4579 - accuracy: 0.8594 - val_loss: 0.3068 - val_accuracy: 0.8873\n",
            "Epoch 89/100\n",
            "62/62 [==============================] - 35s 567ms/step - loss: 0.4036 - accuracy: 0.8725 - val_loss: 0.2154 - val_accuracy: 0.9195\n",
            "Epoch 90/100\n",
            "62/62 [==============================] - 35s 566ms/step - loss: 0.4244 - accuracy: 0.8695 - val_loss: 0.4775 - val_accuracy: 0.8270\n",
            "Epoch 91/100\n",
            "62/62 [==============================] - 35s 564ms/step - loss: 0.5808 - accuracy: 0.8427 - val_loss: 0.2353 - val_accuracy: 0.9135\n",
            "Epoch 92/100\n",
            "62/62 [==============================] - 35s 563ms/step - loss: 0.4864 - accuracy: 0.8533 - val_loss: 0.2053 - val_accuracy: 0.9095\n",
            "Epoch 93/100\n",
            "62/62 [==============================] - 35s 564ms/step - loss: 0.4228 - accuracy: 0.8664 - val_loss: 0.2849 - val_accuracy: 0.9074\n",
            "Epoch 94/100\n",
            "62/62 [==============================] - 35s 563ms/step - loss: 0.4412 - accuracy: 0.8639 - val_loss: 0.2213 - val_accuracy: 0.9155\n",
            "Epoch 95/100\n",
            "62/62 [==============================] - 35s 558ms/step - loss: 0.3980 - accuracy: 0.8674 - val_loss: 0.2257 - val_accuracy: 0.9115\n",
            "Epoch 96/100\n",
            "62/62 [==============================] - 35s 558ms/step - loss: 0.4620 - accuracy: 0.8584 - val_loss: 0.1968 - val_accuracy: 0.9095\n",
            "Epoch 97/100\n",
            "62/62 [==============================] - 35s 556ms/step - loss: 0.4424 - accuracy: 0.8634 - val_loss: 0.2903 - val_accuracy: 0.8893\n",
            "Epoch 98/100\n",
            "62/62 [==============================] - 35s 558ms/step - loss: 0.4402 - accuracy: 0.8674 - val_loss: 0.2234 - val_accuracy: 0.9115\n",
            "Epoch 99/100\n",
            "62/62 [==============================] - 35s 555ms/step - loss: 0.4369 - accuracy: 0.8604 - val_loss: 0.1902 - val_accuracy: 0.9296\n",
            "Epoch 100/100\n",
            "62/62 [==============================] - 34s 553ms/step - loss: 0.4521 - accuracy: 0.8609 - val_loss: 0.3089 - val_accuracy: 0.8833\n"
          ]
        }
      ]
    },
    {
      "cell_type": "markdown",
      "source": [
        "Saving The Model"
      ],
      "metadata": {
        "id": "LUNBj4m6Cw7N"
      }
    },
    {
      "cell_type": "code",
      "metadata": {
        "id": "XC2EhC6tCW6B"
      },
      "source": [
        "# Saving the model and it's weights\n",
        "model.save('model.h5')\n",
        "model.save_weights('weights.hdf5')"
      ],
      "execution_count": 15,
      "outputs": []
    },
    {
      "cell_type": "markdown",
      "source": [
        "# Testing And Statistics"
      ],
      "metadata": {
        "id": "wpsGmaphiP-Q"
      }
    },
    {
      "cell_type": "markdown",
      "source": [
        "Prediction Test"
      ],
      "metadata": {
        "id": "hf9Y4p3aC2bB"
      }
    },
    {
      "cell_type": "code",
      "metadata": {
        "id": "630UsYI0qMBi"
      },
      "source": [
        "# Predicting on test set\n",
        "predTest = model.predict(testX, batch_size=batchSize)"
      ],
      "execution_count": 16,
      "outputs": []
    },
    {
      "cell_type": "code",
      "metadata": {
        "id": "tTrPtvjPqOEk"
      },
      "source": [
        "# Converting results to binary classes for confusion matrix calculation\n",
        "predTest = np.argmax(predTest, axis=1)"
      ],
      "execution_count": 17,
      "outputs": []
    },
    {
      "cell_type": "markdown",
      "source": [
        "Statistics"
      ],
      "metadata": {
        "id": "sJXEJvyVCraJ"
      }
    },
    {
      "cell_type": "code",
      "metadata": {
        "id": "QPfgR4JbqPNU",
        "colab": {
          "base_uri": "https://localhost:8080/"
        },
        "outputId": "61e6fb9d-07db-45f6-b76c-618efbff4385"
      },
      "source": [
        "# Creating classification report for performance evaluation\n",
        "print(classification_report(testY.argmax(axis=1), predTest,\n",
        "\ttarget_names=lb.classes_))\n"
      ],
      "execution_count": 18,
      "outputs": [
        {
          "output_type": "stream",
          "name": "stdout",
          "text": [
            "              precision    recall  f1-score   support\n",
            "\n",
            "       covid       0.83      0.98      0.89       252\n",
            "      normal       0.97      0.79      0.87       245\n",
            "\n",
            "    accuracy                           0.88       497\n",
            "   macro avg       0.90      0.88      0.88       497\n",
            "weighted avg       0.90      0.88      0.88       497\n",
            "\n"
          ]
        }
      ]
    },
    {
      "cell_type": "code",
      "metadata": {
        "id": "I2Nyt-AUqQnG"
      },
      "source": [
        "# Calculating confusion matrix, accuracy, sensitivity, and specificity\n",
        "cm = confusion_matrix(testY.argmax(axis=1), predTest)\n",
        "total = sum(sum(cm))\n",
        "acc = (cm[0, 0] + cm[1, 1]) / total\n",
        "sensitivity = cm[0, 0] / (cm[0, 0] + cm[0, 1])\n",
        "specificity = cm[1, 1] / (cm[1, 0] + cm[1, 1])\n"
      ],
      "execution_count": 19,
      "outputs": []
    },
    {
      "cell_type": "code",
      "metadata": {
        "id": "LOWVHRSyqSfi",
        "colab": {
          "base_uri": "https://localhost:8080/"
        },
        "outputId": "af979263-9c51-444a-f0c7-93bc1694bc63"
      },
      "source": [
        "# Printing calculations\n",
        "print(cm)\n",
        "print(\"acc: {:.4f}\".format(acc))\n",
        "print(\"sensitivity: {:.4f}\".format(sensitivity))\n",
        "print(\"specificity: {:.4f}\".format(specificity))\n"
      ],
      "execution_count": 20,
      "outputs": [
        {
          "output_type": "stream",
          "name": "stdout",
          "text": [
            "[[246   6]\n",
            " [ 52 193]]\n",
            "acc: 0.8833\n",
            "sensitivity: 0.9762\n",
            "specificity: 0.7878\n"
          ]
        }
      ]
    },
    {
      "cell_type": "code",
      "source": [
        "# Visualizing model's training history\n",
        "N = EpochNumber\n",
        "\n",
        "plt.plot(np.arange(0, N), H.history[\"loss\"], label=\"train_loss\")\n",
        "plt.plot(np.arange(0, N), H.history[\"val_loss\"], label=\"val_loss\")\n",
        "plt.xlabel(\"Epoch\")\n",
        "plt.ylabel(\"Loss\")\n",
        "plt.title(\"Model Loss\")\n",
        "plt.legend(['train', 'test'], loc='upper left')\n",
        "plt.savefig(\"plotloss.png\")\n",
        "plt.show()\n",
        "\n",
        "\n",
        "\n",
        "plt.plot(np.arange(0, N), H.history[\"accuracy\"], label=\"train_acc\")\n",
        "plt.plot(np.arange(0, N), H.history[\"val_accuracy\"], label=\"val_acc\")\n",
        "plt.xlabel(\"Epoch\")\n",
        "plt.ylabel(\"Accuracy\")\n",
        "plt.title(\"Model Accuracy\")\n",
        "plt.legend(['train', 'test'], loc='upper left')\n",
        "plt.savefig(\"plotaccuracy.png\")\n",
        "plt.show()\n"
      ],
      "metadata": {
        "id": "GMohSMZXFIv0",
        "colab": {
          "base_uri": "https://localhost:8080/",
          "height": 573
        },
        "outputId": "b07946a8-0c8e-4f7e-d07f-0db44ca4b20e"
      },
      "execution_count": 24,
      "outputs": [
        {
          "output_type": "display_data",
          "data": {
            "image/png": "[encoded data removed]",
            "text/plain": [
              "<Figure size 432x288 with 1 Axes>"
            ]
          },
          "metadata": {
            "needs_background": "light"
          }
        },
        {
          "output_type": "display_data",
          "data": {
            "image/png": "[encoded data removed]",
            "text/plain": [
              "<Figure size 432x288 with 1 Axes>"
            ]
          },
          "metadata": {
            "needs_background": "light"
          }
        }
      ]
    }
  ]
}